{
 "cells": [
  {
   "cell_type": "code",
   "execution_count": 125,
   "metadata": {},
   "outputs": [],
   "source": [
    "tmp = pd.DataFrame({'a':[1,2], 'b':[4,5]}, index=['q', 'h'])"
   ]
  },
  {
   "cell_type": "code",
   "execution_count": 127,
   "metadata": {},
   "outputs": [
    {
     "data": {
      "text/html": [
       "<div>\n",
       "<style scoped>\n",
       "    .dataframe tbody tr th:only-of-type {\n",
       "        vertical-align: middle;\n",
       "    }\n",
       "\n",
       "    .dataframe tbody tr th {\n",
       "        vertical-align: top;\n",
       "    }\n",
       "\n",
       "    .dataframe thead th {\n",
       "        text-align: right;\n",
       "    }\n",
       "</style>\n",
       "<table border=\"1\" class=\"dataframe\">\n",
       "  <thead>\n",
       "    <tr style=\"text-align: right;\">\n",
       "      <th></th>\n",
       "      <th>a</th>\n",
       "    </tr>\n",
       "  </thead>\n",
       "  <tbody>\n",
       "    <tr>\n",
       "      <th>q</th>\n",
       "      <td>1</td>\n",
       "    </tr>\n",
       "    <tr>\n",
       "      <th>h</th>\n",
       "      <td>2</td>\n",
       "    </tr>\n",
       "  </tbody>\n",
       "</table>\n",
       "</div>"
      ],
      "text/plain": [
       "   a\n",
       "q  1\n",
       "h  2"
      ]
     },
     "execution_count": 127,
     "metadata": {},
     "output_type": "execute_result"
    }
   ],
   "source": [
    "tmp.drop('b', axis=1)"
   ]
  },
  {
   "cell_type": "code",
   "execution_count": 21,
   "metadata": {},
   "outputs": [],
   "source": [
    "from cvm.utils import UnitConvert as uc\n",
    "from matplotlib import pyplot as plt\n",
    "\n",
    "from cvm.A1 import Tetrahedron, TetraOctahedron\n",
    "from cvm.sample import Sample\n",
    "from cvm.vibration import ClusterVibration\n",
    "\n",
    "from cvm.utils import get_inp, parse_formula, mixed_atomic_weight\n",
    "import numpy as np\n",
    "import pandas as pd"
   ]
  },
  {
   "cell_type": "code",
   "execution_count": 73,
   "metadata": {},
   "outputs": [
    {
     "data": {
      "text/plain": [
       "[-485.837607,\n",
       " -485.845934,\n",
       " -485.8524581,\n",
       " -485.8573869,\n",
       " -485.8609047,\n",
       " -485.8631746,\n",
       " -485.8643527,\n",
       " -485.8645828,\n",
       " -485.8639909,\n",
       " -485.862687,\n",
       " -485.8607679,\n",
       " -485.8583245,\n",
       " -485.8554481,\n",
       " -485.852212,\n",
       " -485.8486786,\n",
       " -485.8449072,\n",
       " -485.8409477,\n",
       " -485.8368362,\n",
       " -485.8326032,\n",
       " -485.8282779,\n",
       " -485.8238847]"
      ]
     },
     "execution_count": 73,
     "metadata": {},
     "output_type": "execute_result"
    }
   ],
   "source": [
    "inp['series'][0]['host']"
   ]
  },
  {
   "cell_type": "code",
   "execution_count": 136,
   "metadata": {},
   "outputs": [],
   "source": [
    "inp = get_inp('mg_vibration_TO.json')"
   ]
  },
  {
   "cell_type": "code",
   "execution_count": 137,
   "metadata": {},
   "outputs": [],
   "source": [
    "pair = inp['series'][0]['normalize']['energies']\n",
    "cluster = inp['series'][0]['clusters']['energies']"
   ]
  },
  {
   "cell_type": "code",
   "execution_count": 138,
   "metadata": {},
   "outputs": [],
   "source": [
    "ens = dict(lattice=inp['series'][0]['lattice'], host=inp['series'][0]['host'])\n",
    "# ens.update(pair)\n",
    "ens.update(cluster)"
   ]
  },
  {
   "cell_type": "code",
   "execution_count": 141,
   "metadata": {},
   "outputs": [],
   "source": [
    "pd.DataFrame(pair).to_csv('normalizer.csv', index=False)\n",
    "pd.DataFrame(ens).to_csv('cluster.csv', index=False)"
   ]
  },
  {
   "cell_type": "code",
   "execution_count": 139,
   "metadata": {},
   "outputs": [],
   "source": [
    "pd.DataFrame(ens).to_csv('energies.csv', index=False)"
   ]
  },
  {
   "cell_type": "code",
   "execution_count": 71,
   "metadata": {},
   "outputs": [],
   "source": [
    "from ruamel.yaml import YAML\n",
    "import sys\n",
    "\n",
    "yaml = YAML()\n",
    "yaml.indent(mapping=4, sequence=4, offset=2)\n",
    "yaml.default_flow_style = None\n",
    "yaml.width = 120"
   ]
  },
  {
   "cell_type": "code",
   "execution_count": 72,
   "metadata": {},
   "outputs": [],
   "source": [
    "with open('input.yml', 'w') as f:\n",
    "    yaml.dump(inp, f)"
   ]
  },
  {
   "cell_type": "code",
   "execution_count": 52,
   "metadata": {},
   "outputs": [],
   "source": [
    "meta = inp['meta']\n",
    "series = inp['series']\n",
    "experiment = inp['experiment']\n"
   ]
  },
  {
   "cell_type": "code",
   "execution_count": 4,
   "metadata": {},
   "outputs": [
    {
     "data": {
      "text/plain": [
       "{'host': 'Al',\n",
       " 'impurity': 'Mg',\n",
       " 'prefix': '',\n",
       " 'suffix': 'vib_TO',\n",
       " 'description': 'PdRu solubility limit calculation with tetrahedron approximation',\n",
       " 'structure': 'A1'}"
      ]
     },
     "execution_count": 4,
     "metadata": {},
     "output_type": "execute_result"
    }
   ],
   "source": [
    "meta['host'] = 'Al'\n",
    "meta"
   ]
  },
  {
   "cell_type": "code",
   "execution_count": 5,
   "metadata": {},
   "outputs": [],
   "source": [
    "def patch(r0):\n",
    "    _1st = -0.081 + (-0.00365 * (r0 - 7.85) / 0.1)\n",
    "    _2nd = 0\n",
    "    _3body = 0\n",
    "    _4body = 0\n",
    "    \n",
    "    return ((_1st, _2nd), _3body, _4body)"
   ]
  },
  {
   "cell_type": "code",
   "execution_count": 6,
   "metadata": {},
   "outputs": [],
   "source": [
    "kkr = series[0]['energies']['triple'][1]"
   ]
  },
  {
   "cell_type": "code",
   "execution_count": 7,
   "metadata": {},
   "outputs": [],
   "source": [
    "ys = uc.ry2eV(np.array(kkr['energy']) / 4)\n",
    "mass = kkr['mass']\n",
    "xs = uc.lc2ad(np.array(series[0]['lattice_c'], np.float64))\n",
    "shift = uc.ry2eV(np.array(series[0]['host_en'], np.float64))"
   ]
  },
  {
   "cell_type": "code",
   "execution_count": 8,
   "metadata": {},
   "outputs": [
    {
     "data": {
      "text/plain": [
       "c1: 2.460755,  c2: 2.460417,  lambda: 1.099920\n",
       "r0: 3.149643,  x0: 0.031293\n",
       "Gruneisen constant: 1.732178\n",
       "Equilibrium lattice constant: 8.059557 a.u.\n",
       "Bulk Modulus: 542.111353 Kbar\n",
       "Debye temperature: 339.739886 K"
      ]
     },
     "execution_count": 8,
     "metadata": {},
     "output_type": "execute_result"
    }
   ],
   "source": [
    "tmp = ClusterVibration(xs, ys, mass, energy_shift=shift)\n",
    "tmp"
   ]
  },
  {
   "cell_type": "code",
   "execution_count": 9,
   "metadata": {},
   "outputs": [
    {
     "data": {
      "text/plain": [
       "[<matplotlib.lines.Line2D at 0x181911f550>]"
      ]
     },
     "execution_count": 9,
     "metadata": {},
     "output_type": "execute_result"
    },
    {
     "data": {
      "image/png": "[encoded data removed]",
      "text/plain": [
       "<Figure size 432x288 with 1 Axes>"
      ]
     },
     "metadata": {
      "needs_background": "light"
     },
     "output_type": "display_data"
    }
   ],
   "source": [
    "xs = np.linspace(2.8, 3.8, 50)\n",
    "ys = [tmp(800, r) for r in xs]\n",
    "\n",
    "\n",
    "plt.plot(uc.ad2lc(xs), ys)\n"
   ]
  },
  {
   "cell_type": "code",
   "execution_count": 10,
   "metadata": {},
   "outputs": [
    {
     "data": {
      "text/plain": [
       "(-6032.627841499645, 8.227533381615398)"
      ]
     },
     "execution_count": 10,
     "metadata": {},
     "output_type": "execute_result"
    }
   ],
   "source": [
    "tmp(800, min_x=True)"
   ]
  },
  {
   "cell_type": "code",
   "execution_count": 11,
   "metadata": {},
   "outputs": [
    {
     "ename": "TypeError",
     "evalue": "__init__() got an unexpected keyword argument 'skip'",
     "output_type": "error",
     "traceback": [
      "\u001b[0;31m---------------------------------------------------------------------------\u001b[0m",
      "\u001b[0;31mTypeError\u001b[0m                                 Traceback (most recent call last)",
      "\u001b[0;32m<ipython-input-11-4ff540c2690f>\u001b[0m in \u001b[0;36m<module>\u001b[0;34m\u001b[0m\n\u001b[1;32m     28\u001b[0m     ],\n\u001b[1;32m     29\u001b[0m     \u001b[0mpatch\u001b[0m\u001b[0;34m=\u001b[0m\u001b[0mpatch\u001b[0m\u001b[0;34m,\u001b[0m\u001b[0;34m\u001b[0m\u001b[0;34m\u001b[0m\u001b[0m\n\u001b[0;32m---> 30\u001b[0;31m     **series[0])\n\u001b[0m",
      "\u001b[0;31mTypeError\u001b[0m: __init__() got an unexpected keyword argument 'skip'"
     ]
    }
   ],
   "source": [
    "sample = Sample(\n",
    "    coord_num=[\n",
    "        12,\n",
    "        6,\n",
    "        24,\n",
    "        12,\n",
    "        24,\n",
    "        8,\n",
    "        48,\n",
    "        6,\n",
    "        12,  # 9th-a\n",
    "        24,  # 9th-b\n",
    "        4,\n",
    "        24,\n",
    "        24,\n",
    "        48,  # 13th-a\n",
    "        24,  # 13th-b\n",
    "        48,\n",
    "        12,\n",
    "        24,  # 16th-a\n",
    "        24,  # 16th-b\n",
    "        24,  # 17th-a\n",
    "        6,  # 17th-b\n",
    "        48,  # 18th-a\n",
    "        24,  # 18th-b\n",
    "        24,\n",
    "        48  # 20th\n",
    "    ],\n",
    "    patch=patch,\n",
    "    **series[0])"
   ]
  },
  {
   "cell_type": "code",
   "execution_count": 16,
   "metadata": {},
   "outputs": [
    {
     "data": {
      "text/plain": [
       "((-0.0432915526022456, -0.002337195315703866),\n",
       " 0.00681263147998834,\n",
       " 0.0022040259500499815)"
      ]
     },
     "execution_count": 16,
     "metadata": {},
     "output_type": "execute_result"
    }
   ],
   "source": [
    "sample(800, 0.1)"
   ]
  },
  {
   "cell_type": "code",
   "execution_count": 17,
   "metadata": {},
   "outputs": [],
   "source": [
    "tetra = Tetrahedron.from_samples(meta, sample, experiment=experiment)"
   ]
  },
  {
   "cell_type": "code",
   "execution_count": 18,
   "metadata": {},
   "outputs": [
    {
     "name": "stdout",
     "output_type": "stream",
     "text": [
      "1: -0.031123175921043772\n",
      "2: -0.00024214000404754188\n",
      "3: 0.00797660259559052\n",
      "4: 0.0025379573853570037\n",
      "T=300.0 Concentration=0.0160198079690677 Counts=102\n",
      "1: -0.03204698422684604\n",
      "2: -0.0003791013114096131\n",
      "3: 0.007882255318691023\n",
      "4: 0.002504556832718663\n",
      "T=338.8888888888889 Concentration=0.024319988122706013 Counts=110\n",
      "1: -0.03303911614313301\n",
      "2: -0.0005151265195308952\n",
      "3: 0.007779543753713369\n",
      "4: 0.0024679778871359304\n",
      "T=377.77777777777777 Concentration=0.03390395250703523 Counts=115\n",
      "1: -0.034085398625308835\n",
      "2: -0.0006529409693030175\n",
      "3: 0.007670865295949625\n",
      "4: 0.0024294242211908568\n",
      "T=416.66666666666663 Concentration=0.04438119823906934 Counts=121\n",
      "1: -0.03517277634775434\n",
      "2: -0.0007946004261611961\n",
      "3: 0.007558312885521445\n",
      "4: 0.0023899728766991757\n",
      "T=455.55555555555554 Concentration=0.055399092992154945 Counts=127\n",
      "1: -0.036290310520372765\n",
      "2: -0.0009415339445695281\n",
      "3: 0.007443605958542321\n",
      "4: 0.0023505182689405046\n",
      "T=494.44444444444446 Concentration=0.06668172506320318 Counts=132\n",
      "1: -0.037430089942005806\n",
      "2: -0.0010946283418888925\n",
      "3: 0.007328012605285039\n",
      "4: 0.0023117249911592808\n",
      "T=533.3333333333333 Concentration=0.07801367805108832 Counts=138\n",
      "1: -0.038586032078493746\n",
      "2: -0.0012544135552161606\n",
      "3: 0.007212516236904776\n",
      "4: 0.0022741101602150593\n",
      "T=572.2222222222222 Concentration=0.08925798228447987 Counts=145\n",
      "1: -0.03975426850269312\n",
      "2: -0.00142114387381298\n",
      "3: 0.007097785368387122\n",
      "4: 0.00223802885011537\n",
      "T=611.1111111111111 Concentration=0.1003070407600021 Counts=152\n",
      "1: -0.0409319616122405\n",
      "2: -0.0015949179432936944\n",
      "3: 0.006984326995734591\n",
      "4: 0.0022037518574506976\n",
      "T=650.0 Concentration=0.11110211998392781 Counts=159\n"
     ]
    }
   ],
   "source": [
    "for T, c, c_, e_int in tetra():\n",
    "    print('1: %s' % (e_int[0][0]))\n",
    "    print('2: %s' % (e_int[0][1]))\n",
    "    print('3: %s' % (e_int[1]))\n",
    "    print('4: %s' % (e_int[2]))\n",
    "    print('T=%s' % T, 'Concentration=%s' % c, 'Counts=%s' % c_)"
   ]
  },
  {
   "cell_type": "markdown",
   "metadata": {},
   "source": [
    "T=900.0 Concentration=0.1322374574878373 Counts=214"
   ]
  },
  {
   "cell_type": "code",
   "execution_count": null,
   "metadata": {},
   "outputs": [],
   "source": []
  }
 ],
 "metadata": {
  "kernelspec": {
   "display_name": "Python 3",
   "language": "python",
   "name": "python3"
  },
  "language_info": {
   "codemirror_mode": {
    "name": "ipython",
    "version": 3
   },
   "file_extension": ".py",
   "mimetype": "text/x-python",
   "name": "python",
   "nbconvert_exporter": "python",
   "pygments_lexer": "ipython3",
   "version": "3.7.3"
  }
 },
 "nbformat": 4,
 "nbformat_minor": 2
}
