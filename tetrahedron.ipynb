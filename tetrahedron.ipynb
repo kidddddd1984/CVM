{
 "cells": [
  {
   "cell_type": "code",
   "execution_count": 1,
   "metadata": {},
   "outputs": [],
   "source": [
    "from cvm.utils import get_inp\n",
    "import numpy as np"
   ]
  },
  {
   "cell_type": "code",
   "execution_count": 2,
   "metadata": {},
   "outputs": [],
   "source": [
    "inp = get_inp('mg_vibration_TO.json')"
   ]
  },
  {
   "cell_type": "code",
   "execution_count": 3,
   "metadata": {},
   "outputs": [],
   "source": [
    "from cvm.A1 import Tetrahedron\n",
    "from cvm.sample import Sample"
   ]
  },
  {
   "cell_type": "code",
   "execution_count": 4,
   "metadata": {},
   "outputs": [],
   "source": [
    "tmp = inp['series'][0]\n",
    "# del tmp['fix_r0']"
   ]
  },
  {
   "cell_type": "code",
   "execution_count": 5,
   "metadata": {},
   "outputs": [],
   "source": [
    "sample = Sample(\n",
    "    np.float32(8.6173303e-5),\n",
    "    np.float32(13.605698066),\n",
    "    [\n",
    "        12,\n",
    "        6,\n",
    "        24,\n",
    "        12,\n",
    "        24,\n",
    "        8,\n",
    "        48,\n",
    "        6,\n",
    "        12,  # 9th-a\n",
    "        24,  # 9th-b\n",
    "        4,\n",
    "        24,\n",
    "        24,\n",
    "        48,  # 13th-a\n",
    "        24,  # 13th-b\n",
    "        48,\n",
    "        12,\n",
    "        24,  # 16th-a\n",
    "        24,  # 16th-b\n",
    "        24,  # 17th-a\n",
    "        6,  # 17th-b\n",
    "        48,  # 18th-a\n",
    "        24,  # 18th-b\n",
    "        24,\n",
    "        48  # 20th\n",
    "    ],\n",
    "    **tmp\n",
    ")"
   ]
  },
  {
   "cell_type": "code",
   "execution_count": 6,
   "metadata": {},
   "outputs": [],
   "source": [
    "xs = np.linspace(200, 2000, 50)\n",
    "ys = [sample.get_ints(x, 0.05) for x in xs]\n",
    "ys = np.asarray([[y[0][0], y[0][1], y[1], y[2]] for y in ys])"
   ]
  },
  {
   "cell_type": "code",
   "execution_count": 7,
   "metadata": {},
   "outputs": [
    {
     "data": {
      "text/plain": [
       "[<matplotlib.lines.Line2D at 0x181612c390>,\n",
       " <matplotlib.lines.Line2D at 0x181612c588>,\n",
       " <matplotlib.lines.Line2D at 0x181612c908>,\n",
       " <matplotlib.lines.Line2D at 0x181612cc50>]"
      ]
     },
     "execution_count": 7,
     "metadata": {},
     "output_type": "execute_result"
    },
    {
     "data": {
      "image/png": "[encoded data removed]",
      "text/plain": [
       "<Figure size 432x288 with 1 Axes>"
      ]
     },
     "metadata": {
      "needs_background": "light"
     },
     "output_type": "display_data"
    }
   ],
   "source": [
    "from matplotlib import pyplot as plt\n",
    "\n",
    "plt.plot(xs, ys[:, 0], xs, ys[:, 1], xs, ys[:, 2], xs, ys[:, 3])"
   ]
  },
  {
   "cell_type": "code",
   "execution_count": 8,
   "metadata": {},
   "outputs": [],
   "source": [
    "tetra = Tetrahedron(inp)"
   ]
  },
  {
   "cell_type": "code",
   "execution_count": 9,
   "metadata": {},
   "outputs": [
    {
     "name": "stdout",
     "output_type": "stream",
     "text": [
      "T=200.0 Concentration=0.000127735559789956 Counts=69\n",
      "T=280.0 Concentration=0.0018864761820410407 Counts=83\n",
      "T=360.0 Concentration=0.008736537122828625 Counts=92\n",
      "T=440.0 Concentration=0.024287495496178077 Counts=104\n",
      "T=520.0 Concentration=0.05336345650548523 Counts=130\n",
      "T=600.0 Concentration=0.1127868941101414 Counts=240\n"
     ]
    }
   ],
   "source": [
    "for T, c, c_, e_int in tetra(update_en_paras=dict(dis=-0.051)):\n",
    "    print('T=%s' % T, 'Concentration=%s' % c, 'Counts=%s' % c_)"
   ]
  },
  {
   "cell_type": "code",
   "execution_count": null,
   "metadata": {},
   "outputs": [],
   "source": []
  }
 ],
 "metadata": {
  "kernelspec": {
   "display_name": "Python 3",
   "language": "python",
   "name": "python3"
  },
  "language_info": {
   "codemirror_mode": {
    "name": "ipython",
    "version": 3
   },
   "file_extension": ".py",
   "mimetype": "text/x-python",
   "name": "python",
   "nbconvert_exporter": "python",
   "pygments_lexer": "ipython3",
   "version": "3.7.3"
  }
 },
 "nbformat": 4,
 "nbformat_minor": 2
}
