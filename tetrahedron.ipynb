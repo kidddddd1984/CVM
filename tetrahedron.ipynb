{
 "cells": [
  {
   "cell_type": "code",
   "execution_count": 1,
   "metadata": {},
   "outputs": [],
   "source": [
    "from cvm.utils import UnitConvert as uc\n",
    "from matplotlib import pyplot as plt\n",
    "\n",
    "from pprint import pprint\n",
    "\n",
    "from cvm.A1 import Tetrahedron, TetraOctahedron\n",
    "from cvm.sample import Sample\n",
    "from cvm.vibration import ClusterVibration\n",
    "\n",
    "from cvm.utils import get_inp, parse_formula, mixed_atomic_weight, parse_input_set, UnitConvert\n",
    "import numpy as np\n",
    "import pandas as pd"
   ]
  },
  {
   "cell_type": "code",
   "execution_count": 14,
   "metadata": {},
   "outputs": [],
   "source": [
    "inp = parse_input_set('al_mg')"
   ]
  },
  {
   "cell_type": "code",
   "execution_count": 15,
   "metadata": {},
   "outputs": [
    {
     "data": {
      "text/plain": [
       "Tetrahedron(None,\n",
       "            {'$T_\\\\mathrm{FD}=800$K': Sample(None,\n",
       "                    {'Al4Mg2': c1: 2.448031,  c2: 2.447459,  lambda: 1.141575\n",
       "                     r0: 3.099911,  x0: 0.029049\n",
       "                     Gruneisen constant: 1.769390\n",
       "                     Equilibrium lattice constant: 7.932290 a.u.\n",
       "                     Bulk Modulus: 590.193241 Kbar\n",
       "                     Debye temperature: 348.658499 K,\n",
       "                     'Al5Mg1': c1: 2.452570,  c2: 2.451837,  lambda: 1.186364\n",
       "                     r0: 3.050024,  x0: 0.026825\n",
       "                     Gruneisen constant: 1.809219\n",
       "                     Equilibrium lattice constant: 7.804638 a.u.\n",
       "                     Bulk Modulus: 648.997925 Kbar\n",
       "                     Debye temperature: 359.600528 K,\n",
       "                     'Al6': c1: 2.489351,  c2: 2.488623,  lambda: 1.232519\n",
       "                     r0: 2.999432,  x0: 0.024801\n",
       "                     Gruneisen constant: 1.848428\n",
       "                     Equilibrium lattice constant: 7.675180 a.u.\n",
       "                     Bulk Modulus: 722.980157 Kbar\n",
       "                     Debye temperature: 373.258372 K,\n",
       "                     'Mg4': c1: 2.699315,  c2: 2.700068,  lambda: 0.973858\n",
       "                     r0: 3.292903,  x0: 0.040485\n",
       "                     Gruneisen constant: 1.603410\n",
       "                     Equilibrium lattice constant: 8.426133 a.u.\n",
       "                     Bulk Modulus: 446.073176 Kbar\n",
       "                     Debye temperature: 323.671877 K,\n",
       "                     'Al1Mg3': c1: 2.533138,  c2: 2.533367,  lambda: 1.038584\n",
       "                     r0: 3.222138,  x0: 0.035209\n",
       "                     Gruneisen constant: 1.673230\n",
       "                     Equilibrium lattice constant: 8.245055 a.u.\n",
       "                     Bulk Modulus: 486.469831 Kbar\n",
       "                     Debye temperature: 329.848898 K,\n",
       "                     'Al2Mg2': c1: 2.460755,  c2: 2.460417,  lambda: 1.099920\n",
       "                     r0: 3.149643,  x0: 0.031293\n",
       "                     Gruneisen constant: 1.732178\n",
       "                     Equilibrium lattice constant: 8.059557 a.u.\n",
       "                     Bulk Modulus: 542.111352 Kbar\n",
       "                     Debye temperature: 339.741414 K,\n",
       "                     'Al2Mg2~': c1: 2.453021,  c2: 2.452757,  lambda: 1.100748\n",
       "                     r0: 3.150355,  x0: 0.031187\n",
       "                     Gruneisen constant: 1.733873\n",
       "                     Equilibrium lattice constant: 8.061378 a.u.\n",
       "                     Bulk Modulus: 541.115057 Kbar\n",
       "                     Debye temperature: 339.467427 K,\n",
       "                     'Al3Mg1': c1: 2.447678,  c2: 2.446999,  lambda: 1.163616\n",
       "                     r0: 3.075183,  x0: 0.027922\n",
       "                     Gruneisen constant: 1.789166\n",
       "                     Equilibrium lattice constant: 7.869016 a.u.\n",
       "                     Bulk Modulus: 618.018480 Kbar\n",
       "                     Debye temperature: 353.847539 K,\n",
       "                     'Al4': c1: 2.489373,  c2: 2.488646,  lambda: 1.232508\n",
       "                     r0: 2.999428,  x0: 0.024802\n",
       "                     Gruneisen constant: 1.848409\n",
       "                     Equilibrium lattice constant: 7.675171 a.u.\n",
       "                     Bulk Modulus: 722.974679 Kbar\n",
       "                     Debye temperature: 373.256741 K})})"
      ]
     },
     "execution_count": 15,
     "metadata": {},
     "output_type": "execute_result"
    }
   ],
   "source": [
    "tmp = Tetrahedron(**inp)\n",
    "tmp"
   ]
  },
  {
   "cell_type": "code",
   "execution_count": 16,
   "metadata": {},
   "outputs": [
    {
     "data": {
      "text/plain": [
       "-38506.83183151707"
      ]
     },
     "execution_count": 16,
     "metadata": {},
     "output_type": "execute_result"
    }
   ],
   "source": [
    "tmp['$T_\\mathrm{FD}=800$K']['Al5Mg1'](300)"
   ]
  },
  {
   "cell_type": "code",
   "execution_count": 17,
   "metadata": {},
   "outputs": [],
   "source": [
    "def patch(r0):\n",
    "    _1st = -0.081 + (-0.00365 * (r0 - 7.85) / 0.1)\n",
    "    _2nd = 0\n",
    "    _3body = 0\n",
    "    _4body = 0\n",
    "    \n",
    "    return ((_1st, _2nd), _3body, _4body)"
   ]
  },
  {
   "cell_type": "code",
   "execution_count": 18,
   "metadata": {},
   "outputs": [
    {
     "data": {
      "text/plain": [
       "{'1st': 0.03662957553387969,\n",
       " '2nd': -0.000669334243866615,\n",
       " 'triple': 0.007586212963360595,\n",
       " 'tetra': 0.0023786557685525622}"
      ]
     },
     "execution_count": 18,
     "metadata": {},
     "output_type": "execute_result"
    }
   ],
   "source": [
    "tmp['$T_\\mathrm{FD}=800$K'].ie(400, UnitConvert.lc2ad(7.8))"
   ]
  },
  {
   "cell_type": "code",
   "execution_count": 19,
   "metadata": {},
   "outputs": [
    {
     "data": {
      "text/plain": [
       "{'1st': -0.10577843410283094,\n",
       " '2nd': -0.09935662142379442,\n",
       " 'triple': 0.0252506743381673,\n",
       " 'tetra': -0.007093501979397843}"
      ]
     },
     "execution_count": 19,
     "metadata": {},
     "output_type": "execute_result"
    }
   ],
   "source": [
    "tmp['$T_\\mathrm{FD}=800$K'].ie(400)"
   ]
  },
  {
   "cell_type": "code",
   "execution_count": 20,
   "metadata": {},
   "outputs": [
    {
     "name": "stdout",
     "output_type": "stream",
     "text": [
      "1st: -0.10711196417469182\n",
      "2nd: -0.1003699246866745\n",
      "triple: 0.025386696983332513\n",
      "tetra: -0.007227003308798885\n",
      "T=300.0 Concentration=6.608469631420393e-08 Counts=19\n",
      "1st: -0.10660331743929419\n",
      "2nd: -0.09998400489712367\n",
      "triple: 0.02533515851609991\n",
      "tetra: -0.007177014969784068\n",
      "T=338.8888888888889 Concentration=7.562492572269388e-08 Counts=1\n",
      "1st: -0.10608161874915822\n",
      "2nd: -0.09958741968148388\n",
      "triple: 0.02528178349530208\n",
      "tetra: -0.007124522006051848\n",
      "T=377.77777777777777 Concentration=9.587409375181334e-07 Counts=26\n",
      "1st: -0.10554883568329387\n",
      "2nd: -0.09918169100274099\n",
      "triple: 0.025227111549611436\n",
      "tetra: -0.007069775096169906\n",
      "T=416.66666666666663 Concentration=3.996306800935293e-06 Counts=32\n",
      "1st: -0.10500625226268312\n",
      "2nd: -0.09876780871127266\n",
      "triple: 0.025171514636895154\n",
      "tetra: -0.007012938382104039\n",
      "T=455.55555555555554 Concentration=1.2608313294825382e-05 Counts=39\n",
      "1st: -0.10445471866842126\n",
      "2nd: -0.0983464244636707\n",
      "triple: 0.025115257405559532\n",
      "tetra: -0.00695412063942058\n",
      "T=494.44444444444446 Concentration=3.3024941706431314e-05 Counts=45\n",
      "1st: -0.10389479827790638\n",
      "2nd: -0.09791796572244493\n",
      "triple: 0.025058533232368063\n",
      "tetra: -0.006893393685459159\n",
      "T=533.3333333333333 Concentration=7.522561530661897e-05 Counts=50\n",
      "1st: -0.10332685851244605\n",
      "2nd: -0.09748270675481763\n",
      "triple: 0.02500148726903717\n",
      "tetra: -0.006830804206401808\n",
      "T=572.2222222222222 Concentration=0.00015362007624673262 Counts=54\n",
      "1st: -0.10275112788076513\n",
      "2nd: -0.0970408127977862\n",
      "triple: 0.024944230703113135\n",
      "tetra: -0.00676638098229887\n",
      "T=611.1111111111111 Concentration=0.00028751873656894305 Counts=58\n",
      "1st: -0.10216773370120791\n",
      "2nd: -0.09659236939478433\n",
      "triple: 0.02488685099160648\n",
      "tetra: -0.006700140478642425\n",
      "T=650.0 Concentration=0.0005014397357544994 Counts=62\n"
     ]
    }
   ],
   "source": [
    "for l, T, c, c_, e_int in tmp():\n",
    "    print('1st: %s' % (e_int['1st']))\n",
    "    print('2nd: %s' % (e_int['2nd']))\n",
    "    print('triple: %s' % (e_int['triple']))\n",
    "    print('tetra: %s' % (e_int['tetra']))\n",
    "    print('T=%s' % T, 'Concentration=%s' % c, 'Counts=%s' % c_)"
   ]
  },
  {
   "cell_type": "code",
   "execution_count": 29,
   "metadata": {},
   "outputs": [
    {
     "data": {
      "text/plain": [
       "array([[2, 5, 3, 9, 1],\n",
       "       [1, 2, 3, 4, 5]])"
      ]
     },
     "execution_count": 29,
     "metadata": {},
     "output_type": "execute_result"
    }
   ],
   "source": [
    "a = [2,5,3,9,1]\n",
    "b = [1,2,3,4,5]\n",
    "\n",
    "tmp = np.array([a, b])\n",
    "tmp"
   ]
  },
  {
   "cell_type": "code",
   "execution_count": 34,
   "metadata": {},
   "outputs": [
    {
     "data": {
      "text/plain": [
       "array([4, 0, 2, 1, 3])"
      ]
     },
     "execution_count": 34,
     "metadata": {},
     "output_type": "execute_result"
    }
   ],
   "source": [
    "index = np.argsort(tmp[0])\n",
    "index"
   ]
  },
  {
   "cell_type": "code",
   "execution_count": 38,
   "metadata": {},
   "outputs": [
    {
     "data": {
      "text/plain": [
       "array([5, 1, 3, 2, 4])"
      ]
     },
     "execution_count": 38,
     "metadata": {},
     "output_type": "execute_result"
    }
   ],
   "source": [
    "tmp[1, index]"
   ]
  },
  {
   "cell_type": "code",
   "execution_count": 37,
   "metadata": {},
   "outputs": [
    {
     "data": {
      "text/plain": [
       "array([1, 2, 3, 5, 9])"
      ]
     },
     "execution_count": 37,
     "metadata": {},
     "output_type": "execute_result"
    }
   ],
   "source": [
    "tmp[0, index]"
   ]
  },
  {
   "cell_type": "markdown",
   "metadata": {},
   "source": [
    "* T=900.0 Concentration=0.1322374574878373 Counts=214"
   ]
  },
  {
   "cell_type": "markdown",
   "metadata": {},
   "source": [
    "# load inp in old format"
   ]
  },
  {
   "cell_type": "code",
   "execution_count": 11,
   "metadata": {},
   "outputs": [],
   "source": [
    "inp = get_inp('mg_vibration_TO.json')"
   ]
  },
  {
   "cell_type": "code",
   "execution_count": 12,
   "metadata": {},
   "outputs": [],
   "source": [
    "pair = inp['series'][0]['normalize']['energies']\n",
    "cluster = inp['series'][0]['clusters']['energies']"
   ]
  },
  {
   "cell_type": "code",
   "execution_count": 13,
   "metadata": {},
   "outputs": [],
   "source": [
    "cluster = dict(lattice=inp['series'][0]['lattice'], host=inp['series'][0]['host'], **cluster)\n",
    "pair = dict(lattice=inp['series'][0]['lattice'], **pair)"
   ]
  },
  {
   "cell_type": "code",
   "execution_count": 14,
   "metadata": {},
   "outputs": [],
   "source": [
    "pd.DataFrame(pair).to_csv('normalizer.csv', index=False)\n",
    "pd.DataFrame(cluster).to_csv('cluster.csv', index=False)"
   ]
  },
  {
   "cell_type": "code",
   "execution_count": 71,
   "metadata": {},
   "outputs": [],
   "source": [
    "from ruamel.yaml import YAML\n",
    "import sys\n",
    "\n",
    "yaml = YAML()\n",
    "yaml.indent(mapping=4, sequence=4, offset=2)\n",
    "yaml.default_flow_style = None\n",
    "yaml.width = 120"
   ]
  },
  {
   "cell_type": "code",
   "execution_count": 72,
   "metadata": {},
   "outputs": [],
   "source": [
    "with open('input.yml', 'w') as f:\n",
    "    yaml.dump(inp, f)"
   ]
  }
 ],
 "metadata": {
  "kernelspec": {
   "display_name": "Python 3",
   "language": "python",
   "name": "python3"
  },
  "language_info": {
   "codemirror_mode": {
    "name": "ipython",
    "version": 3
   },
   "file_extension": ".py",
   "mimetype": "text/x-python",
   "name": "python",
   "nbconvert_exporter": "python",
   "pygments_lexer": "ipython3",
   "version": "3.7.3"
  }
 },
 "nbformat": 4,
 "nbformat_minor": 2
}
